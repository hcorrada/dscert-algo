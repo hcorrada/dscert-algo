{
 "cells": [
  {
   "cell_type": "markdown",
   "metadata": {},
   "source": [
    "## Experiment with hash functions\n",
    "\n",
    "Our first programming project will implement min-hash and locality sensitive hashing as methods to find similar items in a dataset given a query item. A core operation in these methods is the use of hashing. In this notebook we will experiment a bit with hash functions\n",
    "and make sure we get some python experience under our belts.\n",
    "\n",
    "### Hash functions\n",
    "\n",
    "(Based on Section 1.3.2 of Leskovec et al.)\n",
    "\n",
    "- A hash function $h(x)=b$ takes *hash key* $x$ as input and returns a bucket number $b$ in the range $[0,B-1]$. \n",
    "- *Hash keys* can be values from any domain (integers, strings, arrays), for the moment we concentrate on integer hash keys $x \\in [0,N]$ for some **very large** $N$.\n",
    "- We want hash functions to \"randomize\" hash keys, that is, we want $h$ to uniformly (and randomly) distribute hash keys into $B$ buckets"
   ]
  },
  {
   "cell_type": "markdown",
   "metadata": {},
   "source": [
    "### Our first hash function\n",
    "\n",
    "Let's start with a simple class of hash functions: $h(x) = x \\mod B$. Here is the python implementation of this function along with some applications"
   ]
  },
  {
   "cell_type": "code",
   "execution_count": 72,
   "metadata": {},
   "outputs": [
    {
     "name": "stdout",
     "output_type": "stream",
     "text": [
      "0\n",
      "1\n",
      "5\n",
      "0\n"
     ]
    }
   ],
   "source": [
    "# first hash function here\n",
    "def h1(x, B):\n",
    "    return x % B\n",
    "\n",
    "print(h1(0, 8))\n",
    "print(h1(1, 8))\n",
    "print(h1(5, 8))\n",
    "print(h1(8, 8))"
   ]
  },
  {
   "cell_type": "markdown",
   "metadata": {},
   "source": [
    "Let's apply the function to the list $[0,1,\\ldots,99]$"
   ]
  },
  {
   "cell_type": "code",
   "execution_count": 77,
   "metadata": {},
   "outputs": [
    {
     "data": {
      "text/plain": [
       "[0, 1, 2, 3, 4, 5, 6, 7, 0, 1]"
      ]
     },
     "execution_count": 77,
     "metadata": {},
     "output_type": "execute_result"
    }
   ],
   "source": [
    "y = [h1(x, 8) for x in range(100)]\n",
    "y[:10]"
   ]
  },
  {
   "cell_type": "markdown",
   "metadata": {},
   "source": [
    "Let's see how these values are distributed using a histogram"
   ]
  },
  {
   "cell_type": "code",
   "execution_count": 78,
   "metadata": {},
   "outputs": [
    {
     "data": {
      "text/plain": [
       "(array([13., 13., 13., 13., 12., 12., 12., 12.]),\n",
       " array([0.   , 0.875, 1.75 , 2.625, 3.5  , 4.375, 5.25 , 6.125, 7.   ]),\n",
       " <a list of 8 Patch objects>)"
      ]
     },
     "execution_count": 78,
     "metadata": {},
     "output_type": "execute_result"
    },
    {
     "data": {
      "image/png": "[encoded data removed]",
      "text/plain": [
       "<Figure size 432x288 with 1 Axes>"
      ]
     },
     "metadata": {
      "needs_background": "light"
     },
     "output_type": "display_data"
    }
   ],
   "source": [
    "import matplotlib\n",
    "import matplotlib.pyplot as plt\n",
    "\n",
    "plt.hist(y, 8)"
   ]
  },
  {
   "cell_type": "markdown",
   "metadata": {},
   "source": [
    "Let's try applying that function to a different list of numbers (even numbers)"
   ]
  },
  {
   "cell_type": "code",
   "execution_count": 79,
   "metadata": {},
   "outputs": [
    {
     "data": {
      "text/plain": [
       "(array([13.,  0., 13.,  0.,  0., 12.,  0., 12.]),\n",
       " array([0.  , 0.75, 1.5 , 2.25, 3.  , 3.75, 4.5 , 5.25, 6.  ]),\n",
       " <a list of 8 Patch objects>)"
      ]
     },
     "execution_count": 79,
     "metadata": {},
     "output_type": "execute_result"
    },
    {
     "data": {
      "image/png": "[encoded data removed]",
      "text/plain": [
       "<Figure size 432x288 with 1 Axes>"
      ]
     },
     "metadata": {
      "needs_background": "light"
     },
     "output_type": "display_data"
    }
   ],
   "source": [
    "y = [h1(x, 8) for x in range(0, 100, 2)]\n",
    "plt.hist(y, 8)"
   ]
  },
  {
   "cell_type": "markdown",
   "metadata": {},
   "source": [
    "Did that work? Let's fix it if not."
   ]
  },
  {
   "cell_type": "code",
   "execution_count": 80,
   "metadata": {},
   "outputs": [
    {
     "data": {
      "text/plain": [
       "(array([5., 4., 5., 4., 5., 4., 5., 4., 5., 4., 5.]),\n",
       " array([ 0.        ,  0.90909091,  1.81818182,  2.72727273,  3.63636364,\n",
       "         4.54545455,  5.45454545,  6.36363636,  7.27272727,  8.18181818,\n",
       "         9.09090909, 10.        ]),\n",
       " <a list of 11 Patch objects>)"
      ]
     },
     "execution_count": 80,
     "metadata": {},
     "output_type": "execute_result"
    },
    {
     "data": {
      "image/png": "[encoded data removed]",
      "text/plain": [
       "<Figure size 432x288 with 1 Axes>"
      ]
     },
     "metadata": {
      "needs_background": "light"
     },
     "output_type": "display_data"
    }
   ],
   "source": [
    "y = [h1(x, 11) for x in range(0, 100, 2)]\n",
    "plt.hist(y, 11)"
   ]
  },
  {
   "cell_type": "markdown",
   "metadata": {},
   "source": [
    "Did that work?\n",
    "\n",
    "Some questions:\n",
    "\n",
    "- Why did 11 work better than 8?\n",
    "- What general property can we deduce about this class of hash functions?"
   ]
  },
  {
   "cell_type": "markdown",
   "metadata": {},
   "source": [
    "### Using more than one hash function\n",
    "\n",
    "In our next few systems we want to use multiple hash functions with the \"randomization\" property that produce independent values. Our current function does not satisfy that since every application will yield the same result. So how can we introduce better randomization?\n",
    "\n",
    "We will extend our hash function to the form $h(x) = (ax + b) \\mod B$ where $a$ and $b$ are random integers. Let's implement that:"
   ]
  },
  {
   "cell_type": "code",
   "execution_count": 81,
   "metadata": {},
   "outputs": [],
   "source": [
    "# our second hash function here\n",
    "import random\n",
    "def make_hash(p=100, B=11):\n",
    "    a = random.randint(1, p-1)\n",
    "    b = random.randint(0, p-1)\n",
    "    return lambda x: (a * x + b) % B\n",
    "\n",
    "h1 = make_hash()\n",
    "h2 = make_hash()\n"
   ]
  },
  {
   "cell_type": "code",
   "execution_count": 84,
   "metadata": {},
   "outputs": [
    {
     "name": "stdout",
     "output_type": "stream",
     "text": [
      "[10, 8, 6, 4, 2, 0, 9, 7, 5, 3]\n",
      "[8, 1, 5, 9, 2, 6, 10, 3, 7, 0]\n"
     ]
    }
   ],
   "source": [
    "y1 = [h1(x) for x in range(0,100,2)]\n",
    "y2 = [h2(x) for x in range(0,100,2)]\n",
    "\n",
    "print(y1[:10])\n",
    "print(y2[:10])"
   ]
  },
  {
   "cell_type": "code",
   "execution_count": null,
   "metadata": {},
   "outputs": [],
   "source": []
  },
  {
   "cell_type": "code",
   "execution_count": null,
   "metadata": {},
   "outputs": [],
   "source": []
  },
  {
   "cell_type": "markdown",
   "metadata": {},
   "source": [
    "So that didn't work so well... An important ingredient is that we want a large range of random numbers to avoid depdenence. So, let's set $p$ to a very large number ($2^{33}-355$) and see what happens."
   ]
  },
  {
   "cell_type": "code",
   "execution_count": null,
   "metadata": {},
   "outputs": [],
   "source": [
    "# our third hash function here\n"
   ]
  },
  {
   "cell_type": "code",
   "execution_count": null,
   "metadata": {},
   "outputs": [],
   "source": []
  },
  {
   "cell_type": "code",
   "execution_count": null,
   "metadata": {},
   "outputs": [],
   "source": []
  },
  {
   "cell_type": "code",
   "execution_count": null,
   "metadata": {},
   "outputs": [],
   "source": []
  },
  {
   "cell_type": "code",
   "execution_count": null,
   "metadata": {},
   "outputs": [],
   "source": []
  },
  {
   "cell_type": "markdown",
   "metadata": {},
   "source": [
    "Better. There is still an issue with $B$ being so small, which we need if we want to build a hash table for example since you need to store information in each bucket and you want that to be of reasonable size. For our applications next week, we don't have that constraint so we set $B$ to be pretty big (4294967295, a very large 32 bit prime integer)"
   ]
  },
  {
   "cell_type": "code",
   "execution_count": null,
   "metadata": {},
   "outputs": [],
   "source": [
    "# our third hash function here\n"
   ]
  },
  {
   "cell_type": "code",
   "execution_count": null,
   "metadata": {},
   "outputs": [],
   "source": []
  },
  {
   "cell_type": "code",
   "execution_count": null,
   "metadata": {},
   "outputs": [],
   "source": []
  },
  {
   "cell_type": "code",
   "execution_count": null,
   "metadata": {},
   "outputs": [],
   "source": []
  },
  {
   "cell_type": "code",
   "execution_count": null,
   "metadata": {},
   "outputs": [],
   "source": []
  },
  {
   "cell_type": "code",
   "execution_count": null,
   "metadata": {},
   "outputs": [],
   "source": []
  }
 ],
 "metadata": {
  "kernelspec": {
   "display_name": "Python 3",
   "language": "python",
   "name": "python3"
  },
  "language_info": {
   "codemirror_mode": {
    "name": "ipython",
    "version": 3
   },
   "file_extension": ".py",
   "mimetype": "text/x-python",
   "name": "python",
   "nbconvert_exporter": "python",
   "pygments_lexer": "ipython3",
   "version": "3.8.2"
  }
 },
 "nbformat": 4,
 "nbformat_minor": 4
}
