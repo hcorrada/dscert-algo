{
 "cells": [
  {
   "cell_type": "markdown",
   "metadata": {},
   "source": [
    "## Experiment with hash functions\n",
    "\n",
    "Our first programming project will implement min-hash and locality sensitive hashing as methods to find similar items in a dataset given a query item. A core operation in these methods is the use of hashing. In this notebook we will experiment a bit with hash functions\n",
    "and make sure we get some python experience under our belts.\n",
    "\n",
    "### Hash functions\n",
    "\n",
    "(Based on Section 1.3.2 of Leskovec et al.)\n",
    "\n",
    "- A hash function $h(x)=b$ takes *hash key* $x$ as input and returns a bucket number $b$ in the range $[0,B-1]$. \n",
    "- *Hash keys* can be values from any domain (integers, strings, arrays), for the moment we concentrate on integer hash keys $x \\in [0,N]$ for some **very large** $N$.\n",
    "- We want hash functions to \"randomize\" hash keys, that is, we want $h$ to uniformly (and randomly) distribute hash keys into $B$ buckets"
   ]
  },
  {
   "cell_type": "markdown",
   "metadata": {},
   "source": [
    "### Our first hash function\n",
    "\n",
    "Let's start with a simple class of hash functions: $h(x) = x \\mod B$. Here is the python implementation of this function along with some applications"
   ]
  },
  {
   "cell_type": "code",
   "execution_count": null,
   "metadata": {},
   "outputs": [],
   "source": [
    "# first hash function here\n"
   ]
  },
  {
   "cell_type": "markdown",
   "metadata": {},
   "source": [
    "Let's apply the function to the list $[0,1,\\ldots,99]$"
   ]
  },
  {
   "cell_type": "code",
   "execution_count": null,
   "metadata": {},
   "outputs": [],
   "source": []
  },
  {
   "cell_type": "markdown",
   "metadata": {},
   "source": [
    "Let's see how these values are distributed using a histogram"
   ]
  },
  {
   "cell_type": "code",
   "execution_count": null,
   "metadata": {},
   "outputs": [],
   "source": [
    "import matplotlib\n",
    "import matplotlib.pyplot as plt\n"
   ]
  },
  {
   "cell_type": "markdown",
   "metadata": {},
   "source": [
    "Let's try applying that function to a different list of numbers (even numbers)"
   ]
  },
  {
   "cell_type": "code",
   "execution_count": null,
   "metadata": {},
   "outputs": [],
   "source": []
  },
  {
   "cell_type": "markdown",
   "metadata": {},
   "source": [
    "Did that work? Let's fix it if not."
   ]
  },
  {
   "cell_type": "code",
   "execution_count": null,
   "metadata": {},
   "outputs": [],
   "source": []
  },
  {
   "cell_type": "markdown",
   "metadata": {},
   "source": [
    "Did that work?\n",
    "\n",
    "Some questions:\n",
    "\n",
    "- Why did 11 work better than 8?\n",
    "- What general property can we deduce about this class of hash functions?"
   ]
  },
  {
   "cell_type": "markdown",
   "metadata": {},
   "source": [
    "### Using more than one hash function\n",
    "\n",
    "In our next few systems we want to use multiple hash functions with the \"randomization\" property that produce independent values. Our current function does not satisfy that since every application will yield the same result. So how can we introduce better randomization?\n",
    "\n",
    "We will extend our hash function to the form $h(x) = (ax + b) \\mod B$ where $a$ and $b$ are random integers. Let's implement that:"
   ]
  },
  {
   "cell_type": "code",
   "execution_count": null,
   "metadata": {},
   "outputs": [],
   "source": [
    "# our second hash function here\n",
    "import random\n",
    "\n"
   ]
  },
  {
   "cell_type": "code",
   "execution_count": null,
   "metadata": {},
   "outputs": [],
   "source": []
  },
  {
   "cell_type": "code",
   "execution_count": null,
   "metadata": {},
   "outputs": [],
   "source": []
  },
  {
   "cell_type": "code",
   "execution_count": null,
   "metadata": {},
   "outputs": [],
   "source": []
  },
  {
   "cell_type": "markdown",
   "metadata": {},
   "source": [
    "So that didn't work so well... An important ingredient is that we want a large range of random numbers to avoid depdenence. So, let's set $p$ to a very large number ($2^{33}-355$) and see what happens."
   ]
  },
  {
   "cell_type": "code",
   "execution_count": null,
   "metadata": {},
   "outputs": [],
   "source": [
    "# our third hash function here\n"
   ]
  },
  {
   "cell_type": "code",
   "execution_count": null,
   "metadata": {},
   "outputs": [],
   "source": []
  },
  {
   "cell_type": "code",
   "execution_count": null,
   "metadata": {},
   "outputs": [],
   "source": []
  },
  {
   "cell_type": "code",
   "execution_count": null,
   "metadata": {},
   "outputs": [],
   "source": []
  },
  {
   "cell_type": "code",
   "execution_count": null,
   "metadata": {},
   "outputs": [],
   "source": []
  },
  {
   "cell_type": "markdown",
   "metadata": {},
   "source": [
    "Better. There is still an issue with $B$ being so small, which we need if we want to build a hash table for example since you need to store information in each bucket and you want that to be of reasonable size. For our applications next week, we don't have that constraint so we set $B$ to be pretty big (4294967295, a very large 32 bit prime integer)"
   ]
  },
  {
   "cell_type": "code",
   "execution_count": null,
   "metadata": {},
   "outputs": [],
   "source": [
    "# our third hash function here\n"
   ]
  },
  {
   "cell_type": "code",
   "execution_count": null,
   "metadata": {},
   "outputs": [],
   "source": []
  },
  {
   "cell_type": "code",
   "execution_count": null,
   "metadata": {},
   "outputs": [],
   "source": []
  },
  {
   "cell_type": "code",
   "execution_count": null,
   "metadata": {},
   "outputs": [],
   "source": []
  },
  {
   "cell_type": "code",
   "execution_count": null,
   "metadata": {},
   "outputs": [],
   "source": []
  },
  {
   "cell_type": "code",
   "execution_count": null,
   "metadata": {},
   "outputs": [],
   "source": []
  }
 ],
 "metadata": {
  "kernelspec": {
   "display_name": "Python 3",
   "language": "python",
   "name": "python3"
  },
  "language_info": {
   "codemirror_mode": {
    "name": "ipython",
    "version": 3
   },
   "file_extension": ".py",
   "mimetype": "text/x-python",
   "name": "python",
   "nbconvert_exporter": "python",
   "pygments_lexer": "ipython3",
   "version": "3.8.2"
  }
 },
 "nbformat": 4,
 "nbformat_minor": 4
}
